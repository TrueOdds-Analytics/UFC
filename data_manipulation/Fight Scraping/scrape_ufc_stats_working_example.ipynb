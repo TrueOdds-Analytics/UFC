{
 "cells": [
  {
   "cell_type": "code",
   "execution_count": 1,
   "metadata": {},
   "source": [
    "'''\n",
    "Overview\n",
    "this notebook is a working example of scraping ufc fight stats one at a time\n",
    "the code is broken down into small steps that can be run in parts to view and verify results at each step\n",
    "this is useful for testing and debugging the code as the ufc stats website may be update, breaking the code\n",
    "\n",
    "\n",
    "scrape ufc fight stats\n",
    "get all event details, name, url, date, location for all ufc events\n",
    "for each event, get fight details all fights on card\n",
    "parse each fight to get fight stats of both fighters\n",
    "\n",
    "additional scraping of fighter's details, name, nickname, url\n",
    "for each fighter, get their tale of the tape\n",
    "'''"
   ],
   "outputs": []
  },
  {
   "cell_type": "code",
   "execution_count": 54,
   "metadata": {},
   "source": [
    "# imports\n",
    "import pandas as pd\n",
    "import numpy as np\n",
    "import os\n",
    "import re\n",
    "import requests\n",
    "from bs4 import BeautifulSoup\n",
    "import itertools\n",
    "\n",
    "# import library\n",
    "import scrape_ufc_stats_library as LIB\n",
    "import importlib\n",
    "importlib.reload(LIB)\n",
    "\n",
    "# import configs\n",
    "import yaml\n",
    "config = yaml.safe_load(open('scrape_ufc_stats_config.yaml'))"
   ],
   "outputs": []
  },
  {
   "cell_type": "markdown",
   "metadata": {},
   "source": [
    "# Parse Event Details\n",
    "Includes:\n",
    "<br>\n",
    "Event\n",
    "<br>\n",
    "URL\n",
    "<br>\n",
    "Date\n",
    "<br>\n",
    "Location\n",
    "<br>"
   ]
  },
  {
   "cell_type": "code",
   "execution_count": 146,
   "metadata": {},
   "source": [
    "# define url to parse\n",
    "url = 'http://ufcstats.com/statistics/events/completed' # first page\n",
    "# url = 'http://ufcstats.com/statistics/events/completed?page=all' # all pages\n",
    "\n",
    "# get soup\n",
    "soup = LIB.get_soup(url)"
   ],
   "outputs": []
  },
  {
   "cell_type": "code",
   "execution_count": 147,
   "metadata": {},
   "source": [
    "# parse event details\n",
    "event_details_df = LIB.parse_event_details(soup)\n",
    "\n",
    "# show event details\n",
    "display(event_details_df)"
   ],
   "outputs": []
  },
  {
   "cell_type": "markdown",
   "metadata": {},
   "source": [
    "# Parse Fight Details\n",
    "Includes:\n",
    "<br>\n",
    "Event\n",
    "<br>\n",
    "Bout\n",
    "<br>\n",
    "URL"
   ]
  },
  {
   "cell_type": "code",
   "execution_count": 148,
   "metadata": {},
   "source": [
    "# parse one event for fight details\n",
    "\n",
    "# define url to parse\n",
    "url = 'http://ufcstats.com/event-details/509697e08673d2e5'\n",
    "# get soup\n",
    "soup = LIB.get_soup(url)"
   ],
   "outputs": []
  },
  {
   "cell_type": "code",
   "execution_count": 149,
   "metadata": {},
   "source": [
    "# parse fight links\n",
    "fight_details_df = LIB.parse_fight_details(soup)\n",
    "\n",
    "# show fight links\n",
    "display(fight_details_df)"
   ],
   "outputs": []
  },
  {
   "cell_type": "markdown",
   "metadata": {},
   "source": [
    "# Parse Fight Results and Stats"
   ]
  },
  {
   "cell_type": "code",
   "execution_count": 150,
   "metadata": {},
   "source": [
    "# define url to parse\n",
    "# various types of fights\n",
    "# url = 'http://ufcstats.com/fight-details/4b7ec02b39fc6f70' # one round finish\n",
    "# url = 'http://ufcstats.com/fight-details/8b3b38167060b1d7' # three rounds decision\n",
    "# url = 'http://ufcstats.com/fight-details/b22eab3aa1522f40' # three rounds finish\n",
    "# url = 'http://ufcstats.com/fight-details/3109d1151f149aaf' # five rounds decision\n",
    "# url = 'http://ufcstats.com/fight-details/d93c8c77e1091a16' # no stats\n",
    "# url = 'http://ufcstats.com/fight-details/c63edd25d2201a46' # draw\n",
    "url = 'http://ufcstats.com/fight-details/37cb7ce0f0b70640' # point deduction\n",
    "\n",
    "# get soup\n",
    "soup = LIB.get_soup(url)"
   ],
   "outputs": []
  },
  {
   "cell_type": "markdown",
   "metadata": {},
   "source": [
    "### Parse Fight Results\n",
    "\n",
    "Includes:\n",
    "<br>\n",
    "Event\n",
    "<br>\n",
    "Bout\n",
    "<br>\n",
    "Weightclass\n",
    "<br>\n",
    "Method\n",
    "<br>\n",
    "Round\n",
    "<br>\n",
    "Time\n",
    "<br>\n",
    "Time Format\n",
    "<br>\n",
    "Referee\n",
    "<br>\n",
    "Details\n",
    "<br>"
   ]
  },
  {
   "cell_type": "code",
   "execution_count": 151,
   "metadata": {},
   "source": [
    "# parse fight results from soup\n",
    "fight_results = LIB.parse_fight_results(soup)\n",
    "# append fight url\n",
    "fight_results.append('URL:'+url)\n",
    "\n",
    "# show fight results\n",
    "fight_results"
   ],
   "outputs": []
  },
  {
   "cell_type": "code",
   "execution_count": 152,
   "metadata": {},
   "source": [
    "# organise fight results\n",
    "fight_results_df = LIB.organise_fight_results(fight_results, config['fight_results_column_names'])\n",
    "\n",
    "# show fight results\n",
    "display(fight_results_df)"
   ],
   "outputs": []
  },
  {
   "cell_type": "markdown",
   "metadata": {},
   "source": [
    "### Parse Fight Stats\n",
    "Includes:\n",
    "Event\n",
    "<br>\n",
    "Bout\n",
    "<br>\n",
    "Round\n",
    "<br>\n",
    "Fighter\n",
    "<br>\n",
    "Kd\n",
    "<br>\n",
    "Sig.Str.\n",
    "<br>\n",
    "Sig.Str. %\n",
    "<br>\n",
    "Total Str.\n",
    "<br>\n",
    "Td\n",
    "<br>\n",
    "Td %\n",
    "<br>\n",
    "Sub.Att\n",
    "<br>\n",
    "Rev.\n",
    "<br>\n",
    "Ctrl\n",
    "<br>\n",
    "Head\n",
    "<br>\n",
    "Body\n",
    "<br>\n",
    "Leg\n",
    "<br>\n",
    "Distance\n",
    "<br>\n",
    "Clinch\n",
    "<br>\n",
    "Ground\n",
    "<br>"
   ]
  },
  {
   "cell_type": "code",
   "execution_count": 153,
   "metadata": {},
   "source": [
    "# parse full fight stats for both fighters\n",
    "fighter_a_stats, fighter_b_stats = LIB.parse_fight_stats(soup)\n",
    "\n",
    "# show fighter stats\n",
    "print(fighter_a_stats[:20])"
   ],
   "outputs": []
  },
  {
   "cell_type": "code",
   "execution_count": 154,
   "metadata": {},
   "source": [
    "# organise stats extracted from soup\n",
    "fighter_a_stats_clean = LIB.organise_fight_stats(fighter_a_stats)\n",
    "fighter_b_stats_clean = LIB.organise_fight_stats(fighter_b_stats)\n",
    "\n",
    "# show organised stats\n",
    "print(fighter_a_stats_clean[:2])"
   ],
   "outputs": []
  },
  {
   "cell_type": "code",
   "execution_count": 155,
   "metadata": {},
   "source": [
    "# convert list of fighter stats into a structured dataframe\n",
    "fighter_a_stats_df = LIB.convert_fight_stats_to_df(fighter_a_stats_clean, config['totals_column_names'], config['significant_strikes_column_names'])\n",
    "fighter_b_stats_df = LIB.convert_fight_stats_to_df(fighter_b_stats_clean, config['totals_column_names'], config['significant_strikes_column_names'])\n",
    "\n",
    "# show stats df\n",
    "display(fighter_a_stats_df)"
   ],
   "outputs": []
  },
  {
   "cell_type": "code",
   "execution_count": 156,
   "metadata": {},
   "source": [
    "# combine fighter stats into one\n",
    "fight_stats = LIB.combine_fighter_stats_dfs(fighter_a_stats_df, fighter_b_stats_df, soup)\n",
    "\n",
    "# show fight stats\n",
    "display(fight_stats)"
   ],
   "outputs": []
  },
  {
   "cell_type": "markdown",
   "metadata": {},
   "source": [
    "# Parse Fighter Details"
   ]
  },
  {
   "cell_type": "code",
   "execution_count": 56,
   "metadata": {},
   "source": [
    "# define url to parse\n",
    "url = 'http://ufcstats.com/statistics/fighters?char=b&page=all' # 'a' last names\n",
    "url = 'http://ufcstats.com/statistics/fighters?char=b&page=all' # 'b' last names"
   ],
   "outputs": []
  },
  {
   "cell_type": "code",
   "execution_count": 57,
   "metadata": {},
   "source": [
    "# get soup\n",
    "soup = LIB.get_soup(url)"
   ],
   "outputs": []
  },
  {
   "cell_type": "code",
   "execution_count": 58,
   "metadata": {},
   "source": [
    "# parse fighter details\n",
    "fighter_details_df = LIB.parse_fighter_details(soup, config['fighter_details_column_names'])\n",
    "\n",
    "# show fighter details\n",
    "display(fighter_details_df)"
   ],
   "outputs": []
  },
  {
   "cell_type": "markdown",
   "metadata": {},
   "source": [
    "# Parse Fighter Tale Of The Tape"
   ]
  },
  {
   "cell_type": "code",
   "execution_count": 59,
   "metadata": {},
   "source": [
    "# define url to parse\n",
    "url = 'http://ufcstats.com/fighter-details/93fe7332d16c6ad9' # '--' and '' present\n",
    "url = 'http://ufcstats.com/fighter-details/b361180739bed4b0' # '--' present\n",
    "url = 'http://ufcstats.com/fighter-details/1897b7b913736a7c' # no first name\n",
    "url = 'http://ufcstats.com/fighter-details/d0f3959b4a9747e6' # all tott present"
   ],
   "outputs": []
  },
  {
   "cell_type": "code",
   "execution_count": 60,
   "metadata": {},
   "source": [
    "# get soup\n",
    "soup = LIB.get_soup(url)"
   ],
   "outputs": []
  },
  {
   "cell_type": "code",
   "execution_count": 61,
   "metadata": {},
   "source": [
    "# parse fighter tale of the tape\n",
    "fighter_tott = LIB.parse_fighter_tott(soup)\n",
    "\n",
    "# show tale of the tape\n",
    "fighter_tott"
   ],
   "outputs": []
  },
  {
   "cell_type": "code",
   "execution_count": 62,
   "metadata": {},
   "source": [
    "# create empty df to store fighters' tale of the tape\n",
    "all_fighter_tott_df = pd.DataFrame(columns=config['fighter_tott_column_names'])\n",
    "\n",
    "# organise fighter tale of the tape\n",
    "fighter_tott_df = LIB.organise_fighter_tott(fighter_tott, config['fighter_tott_column_names'], url)\n",
    "\n",
    "# show fighter tale of the tape\n",
    "display(fighter_tott_df)"
   ],
   "outputs": []
  },
  {
   "cell_type": "code",
   "execution_count": null,
   "metadata": {},
   "source": [],
   "outputs": []
  }
 ],
 "metadata": {
  "interpreter": {
   "hash": "9aac8944d03ded7dbafcde28cbfe34d23c9079c2df9125865de5144d9ea8ac9a"
  },
  "kernelspec": {
   "display_name": "Python 3.8.8 64-bit ('base': conda)",
   "language": "python",
   "name": "python3"
  },
  "language_info": {
   "codemirror_mode": {
    "name": "ipython",
    "version": 3
   },
   "file_extension": ".py",
   "mimetype": "text/x-python",
   "name": "python",
   "nbconvert_exporter": "python",
   "pygments_lexer": "ipython3",
   "version": "3.8.8"
  },
  "orig_nbformat": 4
 },
 "nbformat": 4,
 "nbformat_minor": 2
}
